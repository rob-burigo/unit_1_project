{
 "cells": [
  {
   "cell_type": "markdown",
   "metadata": {},
   "source": [
    "CHALLENGE 1) \n",
    "\n",
    "A palindromic number reads the same both ways. For example, 1234321 is a palindrome. The largest palindrome made from the product of two two-digit numbers is 9009 = 91 × 99. Find the largest palindrome made from the product of two three-digit numbers. Afterward, write a brief explanation walking through your code's logic in markdown."
   ]
  },
  {
   "cell_type": "code",
   "execution_count": 32,
   "metadata": {},
   "outputs": [
    {
     "name": "stdout",
     "output_type": "stream",
     "text": [
      "906609\n"
     ]
    }
   ],
   "source": [
    "def palindrome (product):                     # creating a function called palindrome. product needs to be an integer\n",
    "    return str(product) == str(product)[::-1] # evaluating if an int is a palindrome.  if string of the integer equals the string of its reverse.\n",
    "\n",
    "def largest_palindrome (min,max):             # creating another function.  Enter a min and a max for the range to evaluate\n",
    "    z = 0                                     # creating a variable to store later on\n",
    "    for x in range(min,max,1):                # for each number in the range (going by 1) \n",
    "        for y in range(min,max,1):            # for for each number in the range (going by 1) for each x in the range\n",
    "            if palindrome (x*y):              # call on the palindrome function to determine if x*y is palindrome.  if it is go on\n",
    "                if x * y > z:                 # if x*y is greater than Z, replace z with the new x*y\n",
    "                    z = x * y                 # once it goes through all products of x and y, z will have the highest palindrme\n",
    "    return z                                  # return what the value of z is\n",
    "\n",
    "print(largest_palindrome (100,1000))          # calling on the function with a range of 100-1000 (999)"
   ]
  },
  {
   "cell_type": "markdown",
   "metadata": {},
   "source": [
    "CHALLENGE 2)\n",
    "\n",
    "The sum of the primes below 10 is 2 + 3 + 5 + 7 = 17. Find the sum of all the primes below 2,000. Afterward, write a brief explanation walking through your code's logic in markdown."
   ]
  },
  {
   "cell_type": "code",
   "execution_count": 37,
   "metadata": {},
   "outputs": [
    {
     "data": {
      "text/plain": [
       "277050"
      ]
     },
     "execution_count": 37,
     "metadata": {},
     "output_type": "execute_result"
    }
   ],
   "source": [
    "min = 1                                       # store a value for the minimum of the range you want (1)          \n",
    "max = 2000                                    # store a value for the maximum of the range you want (2000)\n",
    "\n",
    "primes = []                                   # creating an empty list called primes\n",
    "\n",
    "\n",
    "for x in range(min,max):                      # iterating through all positive numbers below 2,000       \n",
    "    if x > 1:                                 # using this so i dont have to deal with 1 (not prime) \n",
    "        for y in range(min+1,x-1):            # for each x, iterate though all values in the range of 2 (so you dont divide by 1), and x-1(so you dont divide by itself)\n",
    "            if x % y == 0:                    # if x divided by any y value has a remainder of zero, then break and go back to for loop start\n",
    "                break\n",
    "        else:                                 # if x divided by any y value has no remainder of zero's, then add the x value to primes list\n",
    "            primes.append(x)\n",
    "sum(primes)                                   #sum the list of primes"
   ]
  },
  {
   "cell_type": "markdown",
   "metadata": {},
   "source": [
    "CHALLENGE 3)\n",
    "\n",
    "If we list all of the natural numbers below 10 that are multiples of 3 or 5, we get 3, 5, 6, and 9. The sum of these multiples is 23. Find the sum of all the multiples of 3 and 5 below 1,000. Afterward, write a brief explanation walking through your code's logic in markdown."
   ]
  },
  {
   "cell_type": "code",
   "execution_count": 40,
   "metadata": {},
   "outputs": [
    {
     "data": {
      "text/plain": [
       "233168"
      ]
     },
     "execution_count": 40,
     "metadata": {},
     "output_type": "execute_result"
    }
   ],
   "source": [
    "three = []                                  # creating en empty list for multiples of 3\n",
    "five = []                                   # creating an empty list for multiples of 5\n",
    "\n",
    "for x in range (0,1000,3):                  # for all values in the range 1-999 (going by 3's) \n",
    "    if x > 0:                               # if x>0 so i can start countup up at zero but not add zero to the list\n",
    "        three.append(x)                     # add x to the multiples of 3 list\n",
    "for y in range (0,1000,5):                  # for all values in the range 1-999 (going by 5's) \n",
    "    if y > 0:                               # if y>0 so i can start countup up at zero but not add zero to the list\n",
    "        five.append(y)                      # add y to the multiples of 5 list\n",
    "\n",
    "\n",
    "for num in three:                           # taking each number in the multiples of 3 list\n",
    "    if num not in five:                     # if that number isnt already in the 5 list\n",
    "        five.append(num)                    # add it to the 5 list (i am doing this so i dont double count multiples of both)\n",
    "sum(five)                                   # sum the 5 list since now it has all multiples of both"
   ]
  },
  {
   "cell_type": "markdown",
   "metadata": {},
   "source": [
    "CHALLENGE 4)\n",
    "\n",
    "Implement a method to perform basic string compression using the counts of repeated characters. (This is called run-length encoding.) For example, the string \"aabcccccaaa\" would become a2b1c5a3. If the “compressed” string would not become smaller than the original string, your method should return the original string. You can assume the string has only uppercase and lowercase letters (a–z). Specify whether your solution is case sensitive or case insensitive and what you would need to change to make it the other. Afterward, write a brief explanation walking through your code's logic in markdown."
   ]
  },
  {
   "cell_type": "code",
   "execution_count": 47,
   "metadata": {},
   "outputs": [
    {
     "data": {
      "text/plain": [
       "'a2b1c5a3'"
      ]
     },
     "execution_count": 47,
     "metadata": {},
     "output_type": "execute_result"
    }
   ],
   "source": [
    "def string_compressor(string):              # creating a function to imput the string\n",
    "    compr = \"\"                              # creating an empty string variable\n",
    "    count = 1                               # start a count variable at 1\n",
    "    compr = string[0]                       # adding the first character of the inputed string to the compr variable\n",
    "    for x in range(len(string)-1):          # for each character in the length of the string (i dont want to use the last one for now so i put -1)\n",
    "        if string[x]==string[x+1]:          # if that character == the next one then add it to the count and add the chacter and the count to compr\n",
    "            count+=1\n",
    "        else:                               # if it doesn't, add a 1 after the single character\n",
    "            compr += str(count) \n",
    "            compr += string[x+1]\n",
    "            count = 1                       # set count back to equal 1 and keep going\n",
    "    if(count > 0):                          # this is for the last character since outside the for loop\n",
    "        compr += str(count)                 # our count is at 1 so it will go on and add the count of last group to the variable\n",
    "    if len(string)>len(compr):              # this checks to see if the length of the original is greater then the length of compressed\n",
    "        return compr                        # if it is return the compressed \n",
    "    else:\n",
    "        return string                       # if its not return the original\n",
    "    \n",
    "\n",
    "string_compressor('aabcccccaaa')        # call on the function with the string\n",
    "        \n",
    "# This function is case sensitive.  If i wanted to switch it to not case sensitive i would use the .lower() and convert \n",
    "# everything in the string to a lowercase value then put it through the function. "
   ]
  }
 ],
 "metadata": {
  "kernelspec": {
   "display_name": "Python 3",
   "language": "python",
   "name": "python3"
  },
  "language_info": {
   "codemirror_mode": {
    "name": "ipython",
    "version": 3
   },
   "file_extension": ".py",
   "mimetype": "text/x-python",
   "name": "python",
   "nbconvert_exporter": "python",
   "pygments_lexer": "ipython3",
   "version": "3.6.3"
  }
 },
 "nbformat": 4,
 "nbformat_minor": 2
}
